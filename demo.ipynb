{
 "cells": [
  {
   "cell_type": "code",
   "execution_count": 22,
   "metadata": {},
   "outputs": [
    {
     "name": "stdout",
     "output_type": "stream",
     "text": [
      "12\n",
      "operacionais\n",
      "5\n",
      "[]\n",
      "[4, 9]\n",
      "[]\n",
      "3\n"
     ]
    }
   ],
   "source": [
    "import random\n",
    "import requests\n",
    "\n",
    "class JogoDeForca:\n",
    "     def __init__(self):\n",
    "         url = 'https://www.ime.usp.br/~pf/dicios/br-sem-acentos.txt'\n",
    "         r = requests.get(url, allow_redirects=True)\n",
    "         if r.status_code==200:\n",
    "             self.content = str(r.content.decode()).split('\\n')\n",
    "         else:\n",
    "             print(\"Erro: \", r.status_code)\n",
    "     \n",
    "     def novo_jogo(self, vidas=5):\n",
    "         self.vidas = vidas\n",
    "         self.palavra = random.choice(self.content)\n",
    "         return len(self.palavra)\n",
    "\n",
    "     def tentar_letra(self, letra):\n",
    "         if self.vidas > 0:\n",
    "             if letra in self.palavra:\n",
    "                 return [idx for idx in range(len(self.palavra)) if self.palavra[idx]==letra]\n",
    "             else:\n",
    "                 self.vidas -= 1\n",
    "                 if self.vidas == 0:\n",
    "                     print(\"Fim de jogo!\")\n",
    "                     return False\n",
    "                 else:\n",
    "                     return []\n",
    "\n",
    "     def tentar_palavra(self, palavra):\n",
    "         if self.vidas > 0:\n",
    "             if self.palavra == palavra:\n",
    "                 print (\"Ganhou!\")\n",
    "                 return True\n",
    "             else:\n",
    "                 self.vidas = 0\n",
    "                 print(\"Fim de jogo!\")\n",
    "                 return False\n",
    "\n",
    "jogo = JogoDeForca()\n",
    "print(jogo.novo_jogo())\n",
    "print(jogo.palavra)\n",
    "print(jogo.vidas)\n",
    "print(jogo.tentar_letra('b'))\n",
    "print(jogo.tentar_letra('a'))\n",
    "print(jogo.tentar_letra('w'))\n",
    "print(jogo.vidas)"
   ]
  },
  {
   "cell_type": "code",
   "execution_count": null,
   "metadata": {},
   "outputs": [],
   "source": [
    "class Jogador:\n",
    "    def __init__(self, jogo):\n",
    "        self.jogo = jogo\n",
    "        self.df = {\"vitorias\": 0, \"derrotas\": 0}\n",
    "        self.vitorias = 0\n",
    "        self.derrotas = 0\n",
    "        self.historico_erros = []  \n",
    "\n",
    "    def palavras(self, tamanho, acertos, erros):\n",
    "        # Aqui o que estou fazendo é basicamente filtrar as palavras com base no tamanho da palavra que foi escolhido pelo jogo/forca. Facilitando o processo de achar, além de filtramos\n",
    "        # a partir dessas novas palavras XD\n",
    "        palavras = [i for i in self.jogo.content if len(i) == tamanho]\n",
    "\n",
    "        filtro = []\n",
    "        for j in palavras:\n",
    "            correto = True\n",
    "            for i in range(len(acertos)):\n",
    "                if acertos[i] != \"_\" and j[i] != acertos[i]:\n",
    "                    correto = False\n",
    "                    break\n",
    "            if correto:\n",
    "                filtro.append(j)\n",
    "        \n",
    "        palavras = filtro\n",
    "\n",
    "        # Aqui estou garantindo que as palavras que ainda estao restando tenham letra na lista de erros, sendo assim, u filtro novamente para pegar apenas aquelas palavras cujaas letras\n",
    "        # nao aparecem nos erros de caracteres. >:(\n",
    "        filtro = []\n",
    "        for l in palavras:\n",
    "            if all(letra not in l for letra in erros):\n",
    "                filtro.append(l)\n",
    "        \n",
    "        return filtro\n",
    "    \n",
    "    def freq(self, palavras, tentativas):\n",
    "        # calcula a frequencia das letras que estao sobrando nas palavras restantes!\n",
    "        freq = {}\n",
    "        for j in palavras:\n",
    "            for l in j:\n",
    "                if l not in tentativas:\n",
    "                    freq[l] = freq.get(l, 0) + 1\n",
    "                    \n",
    "        # fazendo a lista e frequencia ficar decrescente \n",
    "        freq = sorted(freq, key=freq.get, reverse=True)\n",
    "        return freq\n",
    "    \n",
    "    def jogadas(self, jogadas):\n",
    "        for _ in range(jogadas):\n",
    "            tam = self.jogo.novo_jogo()\n",
    "            acertos = ['_' for _ in range(tam)] # vai criar uma string do tipo, se a palavra for BANANA vai ficar '______'\n",
    "            tentadas = set()\n",
    "            erros = set()\n",
    "            ganhou = False\n",
    "            historico_jogo = []  \n",
    "\n",
    "            while self.jogo.vidas > 0:\n",
    "                palavras = self.palavras(tam, acertos, erros)\n",
    "                \n",
    "                # cabou palavra, cabou o codigo\n",
    "                if not palavras:\n",
    "                    break  \n",
    "\n",
    "                letras = self.freq(palavras, tentadas)\n",
    "                \n",
    "                # cabou letra, cabou o codigo\n",
    "                if not letras:\n",
    "                    break  \n",
    "\n",
    "                # olha o decrescente em acao, dessa forma posso passar como [0] bem melhor que pegar o ultimo. Enfim, pego a letra de maior prob!\n",
    "                letra = letras[0]  \n",
    "                tentadas.add(letra)\n",
    "\n",
    "                res = self.jogo.tentar_letra(letra)\n",
    "                \n",
    "                historico_jogo.append((letra, ''.join(acertos), self.jogo.palavra, self.jogo.vidas))\n",
    "\n",
    "                if res:\n",
    "                    for i in res:\n",
    "                        acertos[i] = letra\n",
    "                    if \"_\" not in acertos:\n",
    "                        ganhou = True\n",
    "                        break\n",
    "                else:\n",
    "                    erros.add(letra)\n",
    "\n",
    "            if ganhou:\n",
    "                self.vitorias += 1\n",
    "                self.df[\"vitorias\"] = self.vitorias\n",
    "            else:\n",
    "                self.derrotas += 1\n",
    "                self.df[\"derrotas\"] = self.derrotas\n",
    "\n",
    "                # :(\n",
    "                self.historico_erros.append(historico_jogo)  \n",
    "                # X(\n",
    "\n",
    "    def graficos(self):\n",
    "        data = pd.DataFrame.from_dict(self.df, orient='index', columns=['count']).reset_index()\n",
    "        fig = go.Figure([go.Bar(x=data['index'], y=data['count'])])\n",
    "        fig.update_layout(title=\"vic X derrotas\", xaxis_title=\"resultados\", yaxis_title=\"cont\")\n",
    "        fig.show()\n",
    "\n",
    "    def exibir_erros(self):\n",
    "        # faz o relatorio dos erros!!!!\n",
    "        for idx, jogo in enumerate(self.historico_erros, 1):\n",
    "            print(f\"------------------------------\")\n",
    "            print(f\"ERRO {idx}\")\n",
    "            for tentativa in jogo:\n",
    "                letra, jogador_estado, palavra, vidas = tentativa\n",
    "                print(f\"{letra} | {jogador_estado} | {palavra} | {vidas}\")"
   ]
  },
  {
   "cell_type": "code",
   "execution_count": 24,
   "metadata": {},
   "outputs": [
    {
     "name": "stdout",
     "output_type": "stream",
     "text": [
      "Fim de jogo!\n",
      "Fim de jogo!\n",
      "Fim de jogo!\n",
      "Fim de jogo!\n",
      "Fim de jogo!\n"
     ]
    },
    {
     "data": {
      "application/vnd.plotly.v1+json": {
       "config": {
        "plotlyServerURL": "https://plot.ly"
       },
       "data": [
        {
         "type": "bar",
         "x": [
          "vitorias",
          "derrotas"
         ],
         "y": [
          95,
          5
         ]
        }
       ],
       "layout": {
        "template": {
         "data": {
          "bar": [
           {
            "error_x": {
             "color": "#2a3f5f"
            },
            "error_y": {
             "color": "#2a3f5f"
            },
            "marker": {
             "line": {
              "color": "#E5ECF6",
              "width": 0.5
             },
             "pattern": {
              "fillmode": "overlay",
              "size": 10,
              "solidity": 0.2
             }
            },
            "type": "bar"
           }
          ],
          "barpolar": [
           {
            "marker": {
             "line": {
              "color": "#E5ECF6",
              "width": 0.5
             },
             "pattern": {
              "fillmode": "overlay",
              "size": 10,
              "solidity": 0.2
             }
            },
            "type": "barpolar"
           }
          ],
          "carpet": [
           {
            "aaxis": {
             "endlinecolor": "#2a3f5f",
             "gridcolor": "white",
             "linecolor": "white",
             "minorgridcolor": "white",
             "startlinecolor": "#2a3f5f"
            },
            "baxis": {
             "endlinecolor": "#2a3f5f",
             "gridcolor": "white",
             "linecolor": "white",
             "minorgridcolor": "white",
             "startlinecolor": "#2a3f5f"
            },
            "type": "carpet"
           }
          ],
          "choropleth": [
           {
            "colorbar": {
             "outlinewidth": 0,
             "ticks": ""
            },
            "type": "choropleth"
           }
          ],
          "contour": [
           {
            "colorbar": {
             "outlinewidth": 0,
             "ticks": ""
            },
            "colorscale": [
             [
              0,
              "#0d0887"
             ],
             [
              0.1111111111111111,
              "#46039f"
             ],
             [
              0.2222222222222222,
              "#7201a8"
             ],
             [
              0.3333333333333333,
              "#9c179e"
             ],
             [
              0.4444444444444444,
              "#bd3786"
             ],
             [
              0.5555555555555556,
              "#d8576b"
             ],
             [
              0.6666666666666666,
              "#ed7953"
             ],
             [
              0.7777777777777778,
              "#fb9f3a"
             ],
             [
              0.8888888888888888,
              "#fdca26"
             ],
             [
              1,
              "#f0f921"
             ]
            ],
            "type": "contour"
           }
          ],
          "contourcarpet": [
           {
            "colorbar": {
             "outlinewidth": 0,
             "ticks": ""
            },
            "type": "contourcarpet"
           }
          ],
          "heatmap": [
           {
            "colorbar": {
             "outlinewidth": 0,
             "ticks": ""
            },
            "colorscale": [
             [
              0,
              "#0d0887"
             ],
             [
              0.1111111111111111,
              "#46039f"
             ],
             [
              0.2222222222222222,
              "#7201a8"
             ],
             [
              0.3333333333333333,
              "#9c179e"
             ],
             [
              0.4444444444444444,
              "#bd3786"
             ],
             [
              0.5555555555555556,
              "#d8576b"
             ],
             [
              0.6666666666666666,
              "#ed7953"
             ],
             [
              0.7777777777777778,
              "#fb9f3a"
             ],
             [
              0.8888888888888888,
              "#fdca26"
             ],
             [
              1,
              "#f0f921"
             ]
            ],
            "type": "heatmap"
           }
          ],
          "heatmapgl": [
           {
            "colorbar": {
             "outlinewidth": 0,
             "ticks": ""
            },
            "colorscale": [
             [
              0,
              "#0d0887"
             ],
             [
              0.1111111111111111,
              "#46039f"
             ],
             [
              0.2222222222222222,
              "#7201a8"
             ],
             [
              0.3333333333333333,
              "#9c179e"
             ],
             [
              0.4444444444444444,
              "#bd3786"
             ],
             [
              0.5555555555555556,
              "#d8576b"
             ],
             [
              0.6666666666666666,
              "#ed7953"
             ],
             [
              0.7777777777777778,
              "#fb9f3a"
             ],
             [
              0.8888888888888888,
              "#fdca26"
             ],
             [
              1,
              "#f0f921"
             ]
            ],
            "type": "heatmapgl"
           }
          ],
          "histogram": [
           {
            "marker": {
             "pattern": {
              "fillmode": "overlay",
              "size": 10,
              "solidity": 0.2
             }
            },
            "type": "histogram"
           }
          ],
          "histogram2d": [
           {
            "colorbar": {
             "outlinewidth": 0,
             "ticks": ""
            },
            "colorscale": [
             [
              0,
              "#0d0887"
             ],
             [
              0.1111111111111111,
              "#46039f"
             ],
             [
              0.2222222222222222,
              "#7201a8"
             ],
             [
              0.3333333333333333,
              "#9c179e"
             ],
             [
              0.4444444444444444,
              "#bd3786"
             ],
             [
              0.5555555555555556,
              "#d8576b"
             ],
             [
              0.6666666666666666,
              "#ed7953"
             ],
             [
              0.7777777777777778,
              "#fb9f3a"
             ],
             [
              0.8888888888888888,
              "#fdca26"
             ],
             [
              1,
              "#f0f921"
             ]
            ],
            "type": "histogram2d"
           }
          ],
          "histogram2dcontour": [
           {
            "colorbar": {
             "outlinewidth": 0,
             "ticks": ""
            },
            "colorscale": [
             [
              0,
              "#0d0887"
             ],
             [
              0.1111111111111111,
              "#46039f"
             ],
             [
              0.2222222222222222,
              "#7201a8"
             ],
             [
              0.3333333333333333,
              "#9c179e"
             ],
             [
              0.4444444444444444,
              "#bd3786"
             ],
             [
              0.5555555555555556,
              "#d8576b"
             ],
             [
              0.6666666666666666,
              "#ed7953"
             ],
             [
              0.7777777777777778,
              "#fb9f3a"
             ],
             [
              0.8888888888888888,
              "#fdca26"
             ],
             [
              1,
              "#f0f921"
             ]
            ],
            "type": "histogram2dcontour"
           }
          ],
          "mesh3d": [
           {
            "colorbar": {
             "outlinewidth": 0,
             "ticks": ""
            },
            "type": "mesh3d"
           }
          ],
          "parcoords": [
           {
            "line": {
             "colorbar": {
              "outlinewidth": 0,
              "ticks": ""
             }
            },
            "type": "parcoords"
           }
          ],
          "pie": [
           {
            "automargin": true,
            "type": "pie"
           }
          ],
          "scatter": [
           {
            "fillpattern": {
             "fillmode": "overlay",
             "size": 10,
             "solidity": 0.2
            },
            "type": "scatter"
           }
          ],
          "scatter3d": [
           {
            "line": {
             "colorbar": {
              "outlinewidth": 0,
              "ticks": ""
             }
            },
            "marker": {
             "colorbar": {
              "outlinewidth": 0,
              "ticks": ""
             }
            },
            "type": "scatter3d"
           }
          ],
          "scattercarpet": [
           {
            "marker": {
             "colorbar": {
              "outlinewidth": 0,
              "ticks": ""
             }
            },
            "type": "scattercarpet"
           }
          ],
          "scattergeo": [
           {
            "marker": {
             "colorbar": {
              "outlinewidth": 0,
              "ticks": ""
             }
            },
            "type": "scattergeo"
           }
          ],
          "scattergl": [
           {
            "marker": {
             "colorbar": {
              "outlinewidth": 0,
              "ticks": ""
             }
            },
            "type": "scattergl"
           }
          ],
          "scattermapbox": [
           {
            "marker": {
             "colorbar": {
              "outlinewidth": 0,
              "ticks": ""
             }
            },
            "type": "scattermapbox"
           }
          ],
          "scatterpolar": [
           {
            "marker": {
             "colorbar": {
              "outlinewidth": 0,
              "ticks": ""
             }
            },
            "type": "scatterpolar"
           }
          ],
          "scatterpolargl": [
           {
            "marker": {
             "colorbar": {
              "outlinewidth": 0,
              "ticks": ""
             }
            },
            "type": "scatterpolargl"
           }
          ],
          "scatterternary": [
           {
            "marker": {
             "colorbar": {
              "outlinewidth": 0,
              "ticks": ""
             }
            },
            "type": "scatterternary"
           }
          ],
          "surface": [
           {
            "colorbar": {
             "outlinewidth": 0,
             "ticks": ""
            },
            "colorscale": [
             [
              0,
              "#0d0887"
             ],
             [
              0.1111111111111111,
              "#46039f"
             ],
             [
              0.2222222222222222,
              "#7201a8"
             ],
             [
              0.3333333333333333,
              "#9c179e"
             ],
             [
              0.4444444444444444,
              "#bd3786"
             ],
             [
              0.5555555555555556,
              "#d8576b"
             ],
             [
              0.6666666666666666,
              "#ed7953"
             ],
             [
              0.7777777777777778,
              "#fb9f3a"
             ],
             [
              0.8888888888888888,
              "#fdca26"
             ],
             [
              1,
              "#f0f921"
             ]
            ],
            "type": "surface"
           }
          ],
          "table": [
           {
            "cells": {
             "fill": {
              "color": "#EBF0F8"
             },
             "line": {
              "color": "white"
             }
            },
            "header": {
             "fill": {
              "color": "#C8D4E3"
             },
             "line": {
              "color": "white"
             }
            },
            "type": "table"
           }
          ]
         },
         "layout": {
          "annotationdefaults": {
           "arrowcolor": "#2a3f5f",
           "arrowhead": 0,
           "arrowwidth": 1
          },
          "autotypenumbers": "strict",
          "coloraxis": {
           "colorbar": {
            "outlinewidth": 0,
            "ticks": ""
           }
          },
          "colorscale": {
           "diverging": [
            [
             0,
             "#8e0152"
            ],
            [
             0.1,
             "#c51b7d"
            ],
            [
             0.2,
             "#de77ae"
            ],
            [
             0.3,
             "#f1b6da"
            ],
            [
             0.4,
             "#fde0ef"
            ],
            [
             0.5,
             "#f7f7f7"
            ],
            [
             0.6,
             "#e6f5d0"
            ],
            [
             0.7,
             "#b8e186"
            ],
            [
             0.8,
             "#7fbc41"
            ],
            [
             0.9,
             "#4d9221"
            ],
            [
             1,
             "#276419"
            ]
           ],
           "sequential": [
            [
             0,
             "#0d0887"
            ],
            [
             0.1111111111111111,
             "#46039f"
            ],
            [
             0.2222222222222222,
             "#7201a8"
            ],
            [
             0.3333333333333333,
             "#9c179e"
            ],
            [
             0.4444444444444444,
             "#bd3786"
            ],
            [
             0.5555555555555556,
             "#d8576b"
            ],
            [
             0.6666666666666666,
             "#ed7953"
            ],
            [
             0.7777777777777778,
             "#fb9f3a"
            ],
            [
             0.8888888888888888,
             "#fdca26"
            ],
            [
             1,
             "#f0f921"
            ]
           ],
           "sequentialminus": [
            [
             0,
             "#0d0887"
            ],
            [
             0.1111111111111111,
             "#46039f"
            ],
            [
             0.2222222222222222,
             "#7201a8"
            ],
            [
             0.3333333333333333,
             "#9c179e"
            ],
            [
             0.4444444444444444,
             "#bd3786"
            ],
            [
             0.5555555555555556,
             "#d8576b"
            ],
            [
             0.6666666666666666,
             "#ed7953"
            ],
            [
             0.7777777777777778,
             "#fb9f3a"
            ],
            [
             0.8888888888888888,
             "#fdca26"
            ],
            [
             1,
             "#f0f921"
            ]
           ]
          },
          "colorway": [
           "#636efa",
           "#EF553B",
           "#00cc96",
           "#ab63fa",
           "#FFA15A",
           "#19d3f3",
           "#FF6692",
           "#B6E880",
           "#FF97FF",
           "#FECB52"
          ],
          "font": {
           "color": "#2a3f5f"
          },
          "geo": {
           "bgcolor": "white",
           "lakecolor": "white",
           "landcolor": "#E5ECF6",
           "showlakes": true,
           "showland": true,
           "subunitcolor": "white"
          },
          "hoverlabel": {
           "align": "left"
          },
          "hovermode": "closest",
          "mapbox": {
           "style": "light"
          },
          "paper_bgcolor": "white",
          "plot_bgcolor": "#E5ECF6",
          "polar": {
           "angularaxis": {
            "gridcolor": "white",
            "linecolor": "white",
            "ticks": ""
           },
           "bgcolor": "#E5ECF6",
           "radialaxis": {
            "gridcolor": "white",
            "linecolor": "white",
            "ticks": ""
           }
          },
          "scene": {
           "xaxis": {
            "backgroundcolor": "#E5ECF6",
            "gridcolor": "white",
            "gridwidth": 2,
            "linecolor": "white",
            "showbackground": true,
            "ticks": "",
            "zerolinecolor": "white"
           },
           "yaxis": {
            "backgroundcolor": "#E5ECF6",
            "gridcolor": "white",
            "gridwidth": 2,
            "linecolor": "white",
            "showbackground": true,
            "ticks": "",
            "zerolinecolor": "white"
           },
           "zaxis": {
            "backgroundcolor": "#E5ECF6",
            "gridcolor": "white",
            "gridwidth": 2,
            "linecolor": "white",
            "showbackground": true,
            "ticks": "",
            "zerolinecolor": "white"
           }
          },
          "shapedefaults": {
           "line": {
            "color": "#2a3f5f"
           }
          },
          "ternary": {
           "aaxis": {
            "gridcolor": "white",
            "linecolor": "white",
            "ticks": ""
           },
           "baxis": {
            "gridcolor": "white",
            "linecolor": "white",
            "ticks": ""
           },
           "bgcolor": "#E5ECF6",
           "caxis": {
            "gridcolor": "white",
            "linecolor": "white",
            "ticks": ""
           }
          },
          "title": {
           "x": 0.05
          },
          "xaxis": {
           "automargin": true,
           "gridcolor": "white",
           "linecolor": "white",
           "ticks": "",
           "title": {
            "standoff": 15
           },
           "zerolinecolor": "white",
           "zerolinewidth": 2
          },
          "yaxis": {
           "automargin": true,
           "gridcolor": "white",
           "linecolor": "white",
           "ticks": "",
           "title": {
            "standoff": 15
           },
           "zerolinecolor": "white",
           "zerolinewidth": 2
          }
         }
        },
        "title": {
         "text": "vic X derrotas"
        },
        "xaxis": {
         "title": {
          "text": "resultados"
         }
        },
        "yaxis": {
         "title": {
          "text": "cont"
         }
        }
       }
      }
     },
     "metadata": {},
     "output_type": "display_data"
    },
    {
     "name": "stdout",
     "output_type": "stream",
     "text": [
      "------------------------------\n",
      "ERRO 1\n",
      "a | __________ | refutaremo | 5\n",
      "s | _____a____ | refutaremo | 4\n",
      "r | _____a____ | refutaremo | 4\n",
      "e | r____ar___ | refutaremo | 4\n",
      "o | re___are__ | refutaremo | 4\n",
      "m | re___are_o | refutaremo | 4\n",
      "l | re___aremo | refutaremo | 3\n",
      "i | re___aremo | refutaremo | 2\n",
      "c | re___aremo | refutaremo | 1\n",
      "g | re___aremo | refutaremo | 0\n",
      "------------------------------\n",
      "ERRO 2\n",
      "a | ______ | magoai | 5\n",
      "s | _a__a_ | magoai | 4\n",
      "r | _a__a_ | magoai | 3\n",
      "i | _a__a_ | magoai | 3\n",
      "t | _a__ai | magoai | 2\n",
      "n | _a__ai | magoai | 1\n",
      "l | _a__ai | magoai | 0\n",
      "------------------------------\n",
      "ERRO 3\n",
      "a | __________ | enviuvarem | 5\n",
      "r | ______a___ | enviuvarem | 5\n",
      "e | ______ar__ | enviuvarem | 5\n",
      "s | e_____are_ | enviuvarem | 4\n",
      "m | e_____are_ | enviuvarem | 4\n",
      "n | e_____arem | enviuvarem | 4\n",
      "t | en____arem | enviuvarem | 3\n",
      "c | en____arem | enviuvarem | 2\n",
      "x | en____arem | enviuvarem | 1\n",
      "l | en____arem | enviuvarem | 0\n",
      "------------------------------\n",
      "ERRO 4\n",
      "a | ________ | peidamos | 5\n",
      "r | ____a___ | peidamos | 4\n",
      "s | ____a___ | peidamos | 4\n",
      "o | ____a__s | peidamos | 4\n",
      "m | ____a_os | peidamos | 4\n",
      "i | ____amos | peidamos | 4\n",
      "t | __i_amos | peidamos | 3\n",
      "x | __i_amos | peidamos | 2\n",
      "b | __i_amos | peidamos | 1\n",
      "n | __i_amos | peidamos | 0\n",
      "------------------------------\n",
      "ERRO 5\n",
      "a | ______ | alagai | 5\n",
      "r | a_a_a_ | alagai | 4\n",
      "s | a_a_a_ | alagai | 3\n",
      "m | a_a_a_ | alagai | 2\n",
      "i | a_a_a_ | alagai | 2\n",
      "b | a_a_ai | alagai | 1\n",
      "g | a_a_ai | alagai | 1\n",
      "f | a_agai | alagai | 0\n"
     ]
    }
   ],
   "source": [
    "jogo = JogoDeForca()\n",
    "jogador = Jogador(jogo)\n",
    "jogador.jogadas(jogadas=100)\n",
    "jogador.graficos()\n",
    "jogador.exibir_erros()"
   ]
  }
 ],
 "metadata": {
  "kernelspec": {
   "display_name": "venv",
   "language": "python",
   "name": "python3"
  },
  "language_info": {
   "codemirror_mode": {
    "name": "ipython",
    "version": 3
   },
   "file_extension": ".py",
   "mimetype": "text/x-python",
   "name": "python",
   "nbconvert_exporter": "python",
   "pygments_lexer": "ipython3",
   "version": "3.12.5"
  }
 },
 "nbformat": 4,
 "nbformat_minor": 2
}
